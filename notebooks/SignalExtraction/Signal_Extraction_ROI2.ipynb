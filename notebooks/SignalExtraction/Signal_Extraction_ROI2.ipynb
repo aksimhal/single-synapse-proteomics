{
 "cells": [
  {
   "cell_type": "markdown",
   "id": "naked-history",
   "metadata": {},
   "source": [
    "# Signal Matching Analysis for mannual annotations"
   ]
  },
  {
   "cell_type": "code",
   "execution_count": 1,
   "id": "polish-montreal",
   "metadata": {},
   "outputs": [],
   "source": [
    "from time import gmtime, strftime\n",
    "import numpy as np\n",
    "\n",
    "import pandas as pd\n",
    "%matplotlib notebook\n",
    "import matplotlib.pyplot as plt\n",
    "%matplotlib inline\n",
    "import cv2\n",
    "import cv2 as cv\n",
    "import time\n",
    "\n",
    "import skimage\n",
    "from at_synapse_detection import SynapseDetection as syn\n",
    "from PIL import Image, ImageSequence\n",
    "from skimage import measure\n",
    "from tqdm import tqdm\n",
    "from scipy import ndimage\n",
    "import imageio\n",
    "from skimage import io\n",
    "import skimage.io as skio"
   ]
  },
  {
   "cell_type": "markdown",
   "id": "solved-cruise",
   "metadata": {},
   "source": [
    "## Load annotations"
   ]
  },
  {
   "cell_type": "code",
   "execution_count": 2,
   "id": "cultural-nudist",
   "metadata": {},
   "outputs": [],
   "source": [
    "def loaddata(fn): \n",
    "    syn_vol = skio.imread(fn, plugin='tifffile')\n",
    "    syn_vol = np.transpose(syn_vol, (1, 2, 0))\n",
    "\n",
    "    return syn_vol"
   ]
  },
  {
   "cell_type": "code",
   "execution_count": 3,
   "id": "732bbdfa",
   "metadata": {},
   "outputs": [],
   "source": [
    "normalized_receptor_filelist = \\\n",
    "['../notebooks/KDM-SYN-201228/ROI2_data/ROI2-PSD95-P.tif',\\\n",
    " '../notebooks/KDM-SYN-201228/ROI2_data/ROI2-Synapsin12-P.tif',\\\n",
    " '../notebooks/KDM-SYN-201228/ROI2_data/ROI2-Gephyrin-P.tif',\\\n",
    " '../notebooks/KDM-SYN-201228/ROI2_data/ROI2-GABA-P.tif',\\\n",
    " '../notebooks/KDM-SYN-201228/ROI2_data/ROI2-GephyrinMinusGABA-P.tif',\\\n",
    " '../notebooks/KDM-SYN-201228/ROI2_data/ROI2-GluA1-P.tif',\\\n",
    " '../notebooks/KDM-SYN-201228/ROI2_data/ROI2-GluA2-P.tif',\\\n",
    " '../notebooks/KDM-SYN-201228/ROI2_data/ROI2-GluA3-P.tif', \\\n",
    " '../notebooks/KDM-SYN-201228/ROI2_data/ROI2-GluA4-P.tif',\\\n",
    " '../notebooks/KDM-SYN-201228/ROI2_data/ROI2-GluN1-P.tif',\\\n",
    " '../notebooks/KDM-SYN-201228/ROI2_data/ROI2-GluN2B-P.tif',\\\n",
    " '../notebooks/KDM-SYN-201228/ROI2_data/ROI2-VGluT1-P.tif' ]\n",
    "\n",
    "channel_list = \\\n",
    "['PSD95',\\\n",
    " 'Synapsin12',\\\n",
    " 'Gephyrin',\\\n",
    " 'GABA',\\\n",
    " 'GephyrinMinusGABA',\\\n",
    " 'GluA1',\\\n",
    " 'GluA2',\\\n",
    " 'GluA3', \\\n",
    " 'GluA4',\\\n",
    " 'GluN1',\\\n",
    " 'GluN2B',\\\n",
    " 'VGluT1']\n",
    "\n",
    "\n"
   ]
  },
  {
   "cell_type": "code",
   "execution_count": 4,
   "id": "db1db9ad-b844-4341-8436-31d4c8cb7192",
   "metadata": {},
   "outputs": [],
   "source": [
    "annotation_data = io.imread('../KDM-SYN-201228/ROI2_data/AnnotationsExcSynapsesROI2-32b.tif', plugin='tifffile')\n",
    "annotation_data = np.transpose(annotation_data, (1, 2, 0))"
   ]
  },
  {
   "cell_type": "code",
   "execution_count": 5,
   "id": "6ea021ae-9189-402a-bb91-8903423508cc",
   "metadata": {},
   "outputs": [],
   "source": [
    "idlist = []\n",
    "for n in range(0, annotation_data.shape[2]): \n",
    "    idlist.append(np.unique(annotation_data[:, :, n]))"
   ]
  },
  {
   "cell_type": "code",
   "execution_count": 6,
   "id": "f4d89008-8fd2-4ac9-858c-804ce2064394",
   "metadata": {},
   "outputs": [],
   "source": [
    "idlist = np.unique(np.concatenate(idlist))\n"
   ]
  },
  {
   "cell_type": "code",
   "execution_count": 7,
   "id": "f948ded3-e62e-4b31-9f87-2628bfa6bc41",
   "metadata": {},
   "outputs": [
    {
     "data": {
      "text/plain": [
       "551"
      ]
     },
     "execution_count": 7,
     "metadata": {},
     "output_type": "execute_result"
    }
   ],
   "source": [
    "len(idlist)"
   ]
  },
  {
   "cell_type": "code",
   "execution_count": 8,
   "id": "44554127-94db-46e8-a6f6-599516af68e1",
   "metadata": {},
   "outputs": [
    {
     "data": {
      "text/plain": [
       "474"
      ]
     },
     "execution_count": 8,
     "metadata": {},
     "output_type": "execute_result"
    }
   ],
   "source": [
    "474"
   ]
  },
  {
   "cell_type": "code",
   "execution_count": 9,
   "id": "9a9d2507-fe08-4c02-b7d3-6b31b52981eb",
   "metadata": {},
   "outputs": [],
   "source": [
    "columns_list = [] \n",
    "for n_fn in range(0, len(normalized_receptor_filelist)): \n",
    "\n",
    "    channel_name = channel_list[n_fn]\n",
    "    ch_label = channel_name + '_label'\n",
    "    intensity_sum = channel_name + '_intensity_sum'\n",
    "    intensity_avg = channel_name + '_intensity_avg'\n",
    "    ch_slices = channel_name + '_slices'\n",
    "    ch_pixels = channel_name + '_pixels'\n",
    "\n",
    "    columns_list.append(intensity_sum) \n",
    "    columns_list.append(intensity_avg) \n",
    "    columns_list.append(ch_pixels) "
   ]
  },
  {
   "cell_type": "code",
   "execution_count": 10,
   "id": "9204b175-7865-4119-a57a-dbadb8e11577",
   "metadata": {},
   "outputs": [],
   "source": [
    "idlist = list(map(int, idlist))"
   ]
  },
  {
   "cell_type": "code",
   "execution_count": 11,
   "id": "6d3acf82-ead4-40dc-bcde-27b94b8f1dfb",
   "metadata": {},
   "outputs": [],
   "source": [
    "import time\n",
    "\n"
   ]
  },
  {
   "cell_type": "code",
   "execution_count": 12,
   "id": "b7be210e-64e0-40e7-8378-e768e482fff0",
   "metadata": {},
   "outputs": [
    {
     "name": "stdout",
     "output_type": "stream",
     "text": [
      "5.7697296142578125e-05\n"
     ]
    }
   ],
   "source": [
    "t0 = time.time()\n",
    "f=2\n",
    "t1 = time.time()\n",
    "\n",
    "total = t1-t0\n",
    "print(total) "
   ]
  },
  {
   "cell_type": "code",
   "execution_count": null,
   "id": "9822e947-92d0-40f4-8523-3ea0bf40d886",
   "metadata": {},
   "outputs": [],
   "source": []
  },
  {
   "cell_type": "code",
   "execution_count": 13,
   "id": "182e87a9-ad49-4eb3-9cc9-66663ca4042a",
   "metadata": {},
   "outputs": [
    {
     "name": "stderr",
     "output_type": "stream",
     "text": [
      "100%|████████████████████████████████████████████████████████████████████████████████████████████████████████████████████████████████████████████████████████████████████| 45/45 [3:02:58<00:00, 243.98s/it]\n"
     ]
    }
   ],
   "source": [
    "df = pd.DataFrame(columns=columns_list, index=idlist)\n",
    "annotation_data = io.imread('../KDM-SYN-201228/ROI2_data/AnnotationsExcSynapsesROI2-32b.tif', plugin='tifffile')\n",
    "annotation_data = np.transpose(annotation_data, (1, 2, 0))\n",
    "\n",
    "for n_slice in tqdm(range(0, annotation_data.shape[2])): \n",
    "\n",
    "    result_props = measure.regionprops(np.int64(annotation_data[:, :, n_slice]), annotation_data[:, :, n_slice])\n",
    "\n",
    "    for n_anno in range(0, len(result_props)): \n",
    "        annoitr = result_props[n_anno].intensity_mean\n",
    "        anno_slice = annotation_data[:, :, n_slice]==annoitr\n",
    "        anno_slice = np.uint8(anno_slice>0)\n",
    "        SE = cv2.getStructuringElement(cv2.MORPH_ELLIPSE,(108, 108))\n",
    "        mask = cv2.dilate(anno_slice, SE)\n",
    "\n",
    "        for n_fn in range(0, len(normalized_receptor_filelist)): \n",
    "            fn = normalized_receptor_filelist[n_fn]\n",
    "            channel_name = channel_list[n_fn]\n",
    "            \n",
    "            intensity_sum = channel_name + '_intensity_sum'\n",
    "            intensity_avg = channel_name + '_intensity_avg'\n",
    "            ch_pixels = channel_name + '_pixels'\n",
    "            \n",
    "            data = loaddata(normalized_receptor_filelist[n_fn])\n",
    "            data_slice = data[:, :, n_slice]\n",
    "            output = data_slice*mask\n",
    "    \n",
    "            summed_intensity = np.sum(output)\n",
    "            number_of_pixels = np.sum(mask)\n",
    "            avg_intensity = summed_intensity/number_of_pixels\n",
    "            annoitr = annoitr.astype(np.int32)\n",
    "\n",
    "            if pd.isnull(df.loc[annoitr, intensity_sum]): \n",
    "                df.loc[annoitr, intensity_sum] = summed_intensity\n",
    "                df.loc[annoitr, ch_pixels] = number_of_pixels\n",
    "                df.loc[annoitr, intensity_avg] = avg_intensity\n",
    "\n",
    "            else: \n",
    "                df.loc[annoitr, intensity_sum] = df.loc[annoitr, intensity_sum] + summed_intensity\n",
    "                df.loc[annoitr, ch_pixels] = df.loc[annoitr, ch_pixels] + number_of_pixels\n",
    "                df.loc[annoitr, intensity_avg] = df.loc[annoitr, intensity_sum] / df.loc[annoitr, ch_pixels]\n",
    "\n",
    "df.to_csv('sig_extract_ROI2_JULY5_2024.csv')"
   ]
  },
  {
   "cell_type": "code",
   "execution_count": null,
   "id": "24dce1d2-5018-47d4-9943-ba1132345aa9",
   "metadata": {},
   "outputs": [],
   "source": []
  },
  {
   "cell_type": "code",
   "execution_count": null,
   "id": "2d66798e-1d1c-4d0b-b0c6-cec4686ed0a5",
   "metadata": {},
   "outputs": [],
   "source": []
  },
  {
   "cell_type": "code",
   "execution_count": null,
   "id": "f7025375-a2d3-4946-a90d-c16824dce262",
   "metadata": {},
   "outputs": [],
   "source": []
  },
  {
   "cell_type": "code",
   "execution_count": null,
   "id": "b10020ed-6b65-4981-846f-85d1bfc9d363",
   "metadata": {},
   "outputs": [],
   "source": []
  },
  {
   "cell_type": "code",
   "execution_count": null,
   "id": "b74fb6bb-352d-48e5-aa7c-19d0e48cc675",
   "metadata": {},
   "outputs": [],
   "source": []
  },
  {
   "cell_type": "code",
   "execution_count": null,
   "id": "808a00b3-8073-42e9-bd45-fbe7c0657fa1",
   "metadata": {},
   "outputs": [],
   "source": []
  },
  {
   "cell_type": "code",
   "execution_count": null,
   "id": "0c1deba5-df5e-4d60-88ae-b983ba2140ba",
   "metadata": {},
   "outputs": [],
   "source": []
  },
  {
   "cell_type": "code",
   "execution_count": null,
   "id": "a14a0c3c-8389-475a-84e4-3c9686dc505a",
   "metadata": {},
   "outputs": [],
   "source": []
  },
  {
   "cell_type": "code",
   "execution_count": null,
   "id": "202e92db-0cda-418c-82ef-3063c3fd6bae",
   "metadata": {},
   "outputs": [],
   "source": []
  },
  {
   "cell_type": "code",
   "execution_count": null,
   "id": "6d0e1119-e50f-4bd2-8130-3139eaa0866f",
   "metadata": {},
   "outputs": [],
   "source": []
  },
  {
   "cell_type": "code",
   "execution_count": null,
   "id": "2a261550-2387-4b0b-9d54-d221fd46df1d",
   "metadata": {},
   "outputs": [],
   "source": []
  },
  {
   "cell_type": "code",
   "execution_count": null,
   "id": "4956203e-6850-4797-94da-7acc570957c6",
   "metadata": {},
   "outputs": [],
   "source": []
  },
  {
   "cell_type": "code",
   "execution_count": null,
   "id": "b2442a8a-8cc8-4042-a9df-741cf39f05fc",
   "metadata": {},
   "outputs": [],
   "source": []
  },
  {
   "cell_type": "code",
   "execution_count": null,
   "id": "66e9d9aa-d4b4-41f4-8c13-ad2a6ac95ae1",
   "metadata": {},
   "outputs": [],
   "source": []
  },
  {
   "cell_type": "code",
   "execution_count": null,
   "id": "cea2d2b2-e773-4e85-983e-37b84f1f88e1",
   "metadata": {},
   "outputs": [],
   "source": []
  },
  {
   "cell_type": "code",
   "execution_count": null,
   "id": "f9d9ffad-a083-4288-92d4-8a0ad436df51",
   "metadata": {},
   "outputs": [],
   "source": []
  },
  {
   "cell_type": "code",
   "execution_count": null,
   "id": "0dc1779b-b877-4143-acdb-fbcac8e9c955",
   "metadata": {},
   "outputs": [],
   "source": []
  },
  {
   "cell_type": "code",
   "execution_count": null,
   "id": "double-welding",
   "metadata": {},
   "outputs": [],
   "source": []
  },
  {
   "cell_type": "code",
   "execution_count": null,
   "id": "egyptian-specific",
   "metadata": {},
   "outputs": [],
   "source": []
  },
  {
   "cell_type": "code",
   "execution_count": null,
   "id": "expanded-liability",
   "metadata": {},
   "outputs": [],
   "source": []
  },
  {
   "cell_type": "code",
   "execution_count": null,
   "id": "obvious-corruption",
   "metadata": {},
   "outputs": [],
   "source": []
  },
  {
   "cell_type": "code",
   "execution_count": null,
   "id": "boolean-fighter",
   "metadata": {},
   "outputs": [],
   "source": []
  },
  {
   "cell_type": "code",
   "execution_count": null,
   "id": "czech-fourth",
   "metadata": {},
   "outputs": [],
   "source": []
  },
  {
   "cell_type": "code",
   "execution_count": null,
   "id": "subsequent-donor",
   "metadata": {},
   "outputs": [],
   "source": []
  },
  {
   "cell_type": "code",
   "execution_count": null,
   "id": "grateful-arbitration",
   "metadata": {},
   "outputs": [],
   "source": []
  },
  {
   "cell_type": "code",
   "execution_count": null,
   "id": "modern-title",
   "metadata": {},
   "outputs": [],
   "source": []
  },
  {
   "cell_type": "code",
   "execution_count": null,
   "id": "southwest-medicare",
   "metadata": {},
   "outputs": [],
   "source": []
  },
  {
   "cell_type": "code",
   "execution_count": null,
   "id": "enhanced-chambers",
   "metadata": {},
   "outputs": [],
   "source": []
  },
  {
   "cell_type": "code",
   "execution_count": null,
   "id": "disturbed-battle",
   "metadata": {},
   "outputs": [],
   "source": []
  },
  {
   "cell_type": "code",
   "execution_count": null,
   "id": "bigger-counter",
   "metadata": {},
   "outputs": [],
   "source": []
  },
  {
   "cell_type": "code",
   "execution_count": null,
   "id": "concerned-aerospace",
   "metadata": {},
   "outputs": [],
   "source": []
  }
 ],
 "metadata": {
  "kernelspec": {
   "display_name": "Python 3 (ipykernel)",
   "language": "python",
   "name": "python3"
  },
  "language_info": {
   "codemirror_mode": {
    "name": "ipython",
    "version": 3
   },
   "file_extension": ".py",
   "mimetype": "text/x-python",
   "name": "python",
   "nbconvert_exporter": "python",
   "pygments_lexer": "ipython3",
   "version": "3.9.16"
  }
 },
 "nbformat": 4,
 "nbformat_minor": 5
}
