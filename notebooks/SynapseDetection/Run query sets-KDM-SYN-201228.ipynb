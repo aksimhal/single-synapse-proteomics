{
 "cells": [
  {
   "cell_type": "code",
   "execution_count": 2,
   "id": "polish-montreal",
   "metadata": {},
   "outputs": [],
   "source": [
    "from time import gmtime, strftime\n",
    "import numpy as np\n",
    "import webknossos as wk\n",
    "import pandas as pd\n",
    "%matplotlib notebook\n",
    "import matplotlib.pyplot as plt\n",
    "import skimage\n",
    "from at_synapse_detection import SynapseDetection as syn\n",
    "from PIL import Image, ImageSequence\n",
    "from skimage import measure\n",
    "import imageio\n",
    "from skimage import io\n",
    "from tqdm import tqdm"
   ]
  },
  {
   "cell_type": "markdown",
   "id": "moved-vault",
   "metadata": {},
   "source": [
    "# 2 PSD 1 Synap"
   ]
  },
  {
   "cell_type": "code",
   "execution_count": 9,
   "id": "025f746d-872f-422b-8971-305eb0c46e7c",
   "metadata": {},
   "outputs": [],
   "source": [
    "def loaddata(fn): \n",
    "    syn_vol = io.imread(fn, plugin='tifffile')\n",
    "    syn_vol = np.transpose(syn_vol, (1, 2, 0))\n",
    "\n",
    "    return syn_vol"
   ]
  },
  {
   "cell_type": "code",
   "execution_count": 10,
   "id": "dcade448-16f1-48bc-a6f7-6842c82fb3cf",
   "metadata": {},
   "outputs": [],
   "source": [
    "psd_fn = '/Users/anish/Documents/Connectome/webKnossos-synapses/notebooks/KDM-SYN-201228/normalized_data/ROI1-PSD95-P.tif'\n",
    "synapsin_fn = '/Users/anish/Documents/Connectome/webKnossos-synapses/notebooks/KDM-SYN-201228/normalized_data/ROI1-Synapsin12-P.tif'"
   ]
  },
  {
   "cell_type": "code",
   "execution_count": null,
   "id": "regular-library",
   "metadata": {},
   "outputs": [],
   "source": [
    "#!mkdir results/output_psd2_synp1\n"
   ]
  },
  {
   "cell_type": "code",
   "execution_count": null,
   "id": "freelance-chamber",
   "metadata": {},
   "outputs": [
    {
     "name": "stdout",
     "output_type": "stream",
     "text": [
      "Start synapse detection\n"
     ]
    }
   ],
   "source": [
    "psd_data = loaddata(psd_fn)\n",
    "synapsin_data = loaddata(synapsin_fn)\n",
    "\n",
    "synapsin_data = np.double(synapsin_data)\n",
    "psd_data = np.double(psd_data)\n",
    "\n",
    "# Create a dictionary object to hold the image data \n",
    "synaptic_volumes = {'presynaptic': [synapsin_data], 'postsynaptic': [psd_data]}\n",
    "\n",
    "# Specify the minimum number of slices each blob should span \n",
    "min_num_of_slices = 1\n",
    "\n",
    "# Create query dictionary object \n",
    "query = {'preIF': ['synapsin_data',], 'preIF_z': [1],\n",
    "         'postIF': ['psd_data'], 'postIF_z': [2],\n",
    "         'punctumSize': 33}\n",
    "\n",
    "print('Start synapse detection')\n",
    "result_vol = syn.getSynapseDetections(synaptic_volumes, query)\n",
    "\n",
    "print('Save result')\n",
    "!mkdir results/output_psd2_synp1\n",
    "    \n",
    "np.savez('results/output_psd2_synp1/result.npz', result_vol)"
   ]
  },
  {
   "cell_type": "code",
   "execution_count": null,
   "id": "69e851ed-7197-43a5-8b44-27addfa192d8",
   "metadata": {},
   "outputs": [],
   "source": []
  }
 ],
 "metadata": {
  "kernelspec": {
   "display_name": "Python 3 (ipykernel)",
   "language": "python",
   "name": "python3"
  },
  "language_info": {
   "codemirror_mode": {
    "name": "ipython",
    "version": 3
   },
   "file_extension": ".py",
   "mimetype": "text/x-python",
   "name": "python",
   "nbconvert_exporter": "python",
   "pygments_lexer": "ipython3",
   "version": "3.9.16"
  }
 },
 "nbformat": 4,
 "nbformat_minor": 5
}
